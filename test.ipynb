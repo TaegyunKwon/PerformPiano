{
 "cells": [
  {
   "cell_type": "code",
   "execution_count": 1,
   "metadata": {
    "collapsed": true
   },
   "outputs": [],
   "source": [
    "from musicXML_parser.mxp import MusicXMLDocument\n",
    "import midi_utils.midi_utils as midi_utils"
   ]
  },
  {
   "cell_type": "code",
   "execution_count": 2,
   "metadata": {},
   "outputs": [],
   "source": [
    "folderDir = '/dataset/chopin_cleaned/Chopin_Ballade/1/'\n",
    "artistName = 'Dossin05'\n",
    "xmlname = 'musicxml_cleaned.musicxml'\n",
    "midiname= 'midi_cleaned.mid'"
   ]
  },
  {
   "cell_type": "code",
   "execution_count": 3,
   "metadata": {},
   "outputs": [
    {
     "ename": "NameError",
     "evalue": "name 'xml_matching' is not defined",
     "traceback": [
      "\u001b[0;31m---------------------------------------------------------------------------\u001b[0m",
      "\u001b[0;31mNameError\u001b[0m                                 Traceback (most recent call last)",
      "\u001b[0;32m<ipython-input-3-c9b66b135bb8>\u001b[0m in \u001b[0;36m<module>\u001b[0;34m()\u001b[0m\n\u001b[1;32m      1\u001b[0m \u001b[0mXMLDocument\u001b[0m \u001b[0;34m=\u001b[0m \u001b[0mMusicXMLDocument\u001b[0m\u001b[0;34m(\u001b[0m\u001b[0mfolderDir\u001b[0m \u001b[0;34m+\u001b[0m \u001b[0mxmlname\u001b[0m\u001b[0;34m)\u001b[0m\u001b[0;34m\u001b[0m\u001b[0m\n\u001b[0;32m----> 2\u001b[0;31m \u001b[0mmelody_notes\u001b[0m \u001b[0;34m=\u001b[0m \u001b[0mxml_matching\u001b[0m\u001b[0;34m.\u001b[0m\u001b[0mextract_notes\u001b[0m\u001b[0;34m(\u001b[0m\u001b[0mXMLDocument\u001b[0m\u001b[0;34m,\u001b[0m \u001b[0mmelody_only\u001b[0m\u001b[0;34m=\u001b[0m\u001b[0;32mFalse\u001b[0m\u001b[0;34m,\u001b[0m \u001b[0mgrace_note\u001b[0m\u001b[0;34m=\u001b[0m\u001b[0;32mTrue\u001b[0m\u001b[0;34m)\u001b[0m\u001b[0;34m\u001b[0m\u001b[0m\n\u001b[0m\u001b[1;32m      3\u001b[0m \u001b[0mmelody_notes\u001b[0m\u001b[0;34m.\u001b[0m\u001b[0msort\u001b[0m\u001b[0;34m(\u001b[0m\u001b[0mkey\u001b[0m\u001b[0;34m=\u001b[0m\u001b[0;32mlambda\u001b[0m \u001b[0mx\u001b[0m\u001b[0;34m:\u001b[0m \u001b[0mx\u001b[0m\u001b[0;34m.\u001b[0m\u001b[0mnote_duration\u001b[0m\u001b[0;34m.\u001b[0m\u001b[0mtime_position\u001b[0m\u001b[0;34m)\u001b[0m\u001b[0;34m\u001b[0m\u001b[0m\n\u001b[1;32m      4\u001b[0m \u001b[0mscore_midi\u001b[0m \u001b[0;34m=\u001b[0m \u001b[0mmidi_utils\u001b[0m\u001b[0;34m.\u001b[0m\u001b[0mto_midi_zero\u001b[0m\u001b[0;34m(\u001b[0m\u001b[0mfolderDir\u001b[0m \u001b[0;34m+\u001b[0m \u001b[0mmidiname\u001b[0m\u001b[0;34m)\u001b[0m\u001b[0;34m\u001b[0m\u001b[0m\n\u001b[1;32m      5\u001b[0m \u001b[0mperform_midi\u001b[0m \u001b[0;34m=\u001b[0m \u001b[0mmidi_utils\u001b[0m\u001b[0;34m.\u001b[0m\u001b[0mto_midi_zero\u001b[0m\u001b[0;34m(\u001b[0m\u001b[0mfolderDir\u001b[0m \u001b[0;34m+\u001b[0m \u001b[0martistName\u001b[0m \u001b[0;34m+\u001b[0m \u001b[0;34m'.mid'\u001b[0m\u001b[0;34m)\u001b[0m\u001b[0;34m\u001b[0m\u001b[0m\n",
      "\u001b[0;31mNameError\u001b[0m: name 'xml_matching' is not defined"
     ],
     "output_type": "error"
    }
   ],
   "source": [
    "XMLDocument = MusicXMLDocument(folderDir + xmlname)\n",
    "melody_notes = xml_matching.extract_notes(XMLDocument, melody_only=False, grace_note=True)\n",
    "melody_notes.sort(key=lambda x: x.note_duration.time_position)\n",
    "score_midi = midi_utils.to_midi_zero(folderDir + midiname)\n",
    "perform_midi = midi_utils.to_midi_zero(folderDir + artistName + '.mid')"
   ]
  },
  {
   "cell_type": "code",
   "execution_count": 6,
   "metadata": {},
   "outputs": [],
   "source": [
    "perform_midi = midi_utils.add_pedal_inf_to_notes(perform_midi)\n",
    "score_midi_notes = score_midi.instruments[0].notes\n",
    "score_midi_notes.sort(key=lambda note: note.start)"
   ]
  },
  {
   "cell_type": "code",
   "execution_count": 7,
   "metadata": {},
   "outputs": [],
   "source": [
    "perform_midi_notes = perform_midi.instruments[0].notes\n",
    "corresp = xml_matching.read_corresp(folderDir + artistName + \"_infer_corresp.txt\")\n",
    "score_pairs, perform_pairs = xml_matching.match_xml_midi_perform(melody_notes,score_midi_notes, perform_midi_notes, corresp)"
   ]
  },
  {
   "cell_type": "code",
   "execution_count": null,
   "metadata": {},
   "outputs": [],
   "source": []
  }
 ],
 "metadata": {
  "kernelspec": {
   "display_name": "Python 2",
   "language": "python",
   "name": "python2"
  },
  "language_info": {
   "codemirror_mode": {
    "name": "ipython",
    "version": 2
   },
   "file_extension": ".py",
   "mimetype": "text/x-python",
   "name": "python",
   "nbconvert_exporter": "python",
   "pygments_lexer": "ipython2",
   "version": "2.7.6"
  }
 },
 "nbformat": 4,
 "nbformat_minor": 0
}
