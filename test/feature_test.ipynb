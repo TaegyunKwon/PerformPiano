{
 "cells": [
  {
   "cell_type": "code",
   "execution_count": 3,
   "metadata": {
    "collapsed": true
   },
   "outputs": [],
   "source": [
    "import xml_data\n",
    "import matching\n",
    "import pretty_midi\n",
    "import random\n",
    "test_xml = 'examples/ballade1/musicxml_cleaned.musicxml'\n",
    "test_perform = 'examples/ballade1/Ali01.mid'\n",
    "from feature import ScoreFeatures"
   ]
  },
  {
   "cell_type": "code",
   "execution_count": 2,
   "metadata": {},
   "outputs": [],
   "source": [
    "xml_sequence = xml_data.XmlNoteSequence(test_xml)\n",
    "perform_pair = matching.PerformPair(xml_sequence, test_perform)"
   ]
  },
  {
   "cell_type": "code",
   "execution_count": 5,
   "metadata": {},
   "outputs": [],
   "source": [
    "score_features = ScoreFeatures(xml_sequence, perform_pair.score_pairs)"
   ]
  },
  {
   "cell_type": "code",
   "execution_count": 7,
   "metadata": {},
   "outputs": [
    {
     "name": "stdout",
     "output_type": "stream",
     "text": [
      "{'score_note': <musicXML_parser.mxp.note.Note object at 0x7feb525bf630>, 'perform_note': Note(start=354.868769, end=354.922188, pitch=77, velocity=78), 'score_features': {}, 'perform_features': {}, 'pitch': ('F5', 77), 'note_length': 0.5, 'beat_location': 5.0, 'score_ioi': 0.5, 'notation': array([0, 0, 0, 0]), 'dynamic': [0.4, 0, 0, 0], 'tempo': [0.5, 0.4, 0]}\n{'score_note': <musicXML_parser.mxp.note.Note object at 0x7feb52c40588>, 'perform_note': Note(start=100.826555, end=101.084301, pitch=66, velocity=35), 'score_features': {}, 'perform_features': {}, 'pitch': ('F#4', 66), 'note_length': 1.0, 'beat_location': 5.0, 'score_ioi': 1.0, 'notation': array([0, 0, 0, 0]), 'dynamic': [-0.4, 0, 0, 0], 'tempo': [0, 0, 0]}\n{'score_note': <musicXML_parser.mxp.note.Note object at 0x7feb52c45780>, 'perform_note': Note(start=102.128637, end=102.259513, pitch=67, velocity=47), 'score_features': {}, 'perform_features': {}, 'pitch': ('G4', 67), 'note_length': 1.0, 'beat_location': 2.0, 'score_ioi': 1.0, 'notation': array([0, 0, 0, 0]), 'dynamic': [-0.4, 0, 0, 0], 'tempo': [0, 0, 0]}\n{'score_note': <musicXML_parser.mxp.note.Note object at 0x7feb524b7048>, 'perform_note': Note(start=384.131560, end=384.255759, pitch=46, velocity=52), 'score_features': {}, 'perform_features': {}, 'pitch': ('Bb2', 46), 'note_length': 0.5, 'beat_location': 5.5, 'score_ioi': 0.16666666666674246, 'notation': array([0, 0, 0, 0]), 'dynamic': [0.7, 0, 0, 0.5], 'tempo': [0.5, 0.4, 0]}\n{'score_note': <musicXML_parser.mxp.note.Note object at 0x7feb52381908>, 'perform_note': Note(start=425.740760, end=425.792843, pitch=58, velocity=38), 'score_features': {}, 'perform_features': {}, 'pitch': ('Bb3', 58), 'note_length': 1.0, 'beat_location': 2.0, 'score_ioi': 1.0, 'notation': array([0, 0, 1, 0]), 'dynamic': [-0.7, 0, 0, 0], 'tempo': [0.5, 0.4, 0]}\n{'score_note': <musicXML_parser.mxp.note.Note object at 0x7feb522f9c88>, 'perform_note': Note(start=456.349704, end=456.383091, pitch=60, velocity=38), 'score_features': {}, 'perform_features': {}, 'pitch': ('C4', 60), 'note_length': 1.0, 'beat_location': 0.0, 'score_ioi': 0.5, 'notation': array([0, 0, 0, 0]), 'dynamic': [0.7, 0, 0, 0], 'tempo': [0.8, 0, 0]}\n{'score_note': <musicXML_parser.mxp.note.Note object at 0x7feb52c886d8>, 'perform_note': Note(start=88.087519, end=88.174324, pitch=53, velocity=69), 'score_features': {}, 'perform_features': {}, 'pitch': ('F3', 53), 'note_length': 0.125, 'beat_location': 4.25, 'score_ioi': 0.125, 'notation': array([0, 0, 0, 0]), 'dynamic': [-0.4, 0, 0, 0], 'tempo': [0, 0, 0]}\n{'score_note': <musicXML_parser.mxp.note.Note object at 0x7feb52851048>, 'perform_note': None, 'score_features': {}, 'perform_features': {}, 'pitch': ('E3', 52), 'note_length': 1.0, 'beat_location': 1.0, 'score_ioi': 1.0, 'notation': array([0, 0, 0, 0]), 'dynamic': [0.7, 0, 0, 0], 'tempo': [0.5, 0.4, 0]}\n{'score_note': <musicXML_parser.mxp.note.Note object at 0x7feb524e2d68>, 'perform_note': Note(start=374.346581, end=374.497489, pitch=82, velocity=83), 'score_features': {}, 'perform_features': {}, 'pitch': ('Bb5', 82), 'note_length': 1.0, 'beat_location': 5.0, 'score_ioi': 0.5, 'notation': array([0, 0, 0, 0]), 'dynamic': [0.7, 0, 0, 0], 'tempo': [0.5, 0.4, 0]}\n{'score_note': <musicXML_parser.mxp.note.Note object at 0x7feb524f02e8>, 'perform_note': Note(start=375.273396, end=375.405608, pitch=77, velocity=90), 'score_features': {}, 'perform_features': {}, 'pitch': ('F5', 77), 'note_length': 2.0, 'beat_location': 3.0, 'score_ioi': 0.5, 'notation': array([0, 0, 0, 0]), 'dynamic': [0.7, 0, 0, 0], 'tempo': [0.5, 0.4, 0]}\n"
     ]
    }
   ],
   "source": [
    "for n in range(10):\n",
    "  rand_int = random.randint(0, len(score_features.note_features))\n",
    "  print(score_features.note_features[rand_int].__dict__)"
   ]
  },
  {
   "cell_type": "code",
   "execution_count": 6,
   "metadata": {},
   "outputs": [
    {
     "name": "stdout",
     "output_type": "stream",
     "text": [
      "[1.50774421875, 1.5104151562500001, 5.0721103125, 5.101490625, 5.91746203125, 5.9334876562500005, 6.48503625, 6.499726406250001, 6.928411875, 6.9431020312500005]\n"
     ]
    }
   ],
   "source": [
    "a = [el.start for el in perform_notes]\n",
    "print(a[:10])"
   ]
  },
  {
   "cell_type": "code",
   "execution_count": 7,
   "metadata": {},
   "outputs": [
    {
     "name": "stdout",
     "output_type": "stream",
     "text": [
      "{'xml_note': <Element 'note' at 0x7f2e754ee098>, 'voice': 1, 'is_rest': False, 'is_in_chord': False, 'is_grace_note': False, 'is_overlapped': False, 'pitch': ('C3', 48), 'note_duration': <musicXML_parser.mxp.note_duration.NoteDuration object at 0x7f2e63ca45c0>, 'state_fixed': <musicXML_parser.mxp.main.MusicXMLParserState object at 0x7f2e63ca4630>, 'state': <musicXML_parser.mxp.main.MusicXMLParserState object at 0x7f2e754484e0>, 'note_notations': <musicXML_parser.mxp.notations.Notations object at 0x7f2e63ca4668>, 'dynamic': <musicXML_parser.mxp.note_dynamic.NoteDynamic object at 0x7f2e63ca46a0>, 'tempo': <musicXML_parser.mxp.note_dynamic.NoteTempo object at 0x7f2e63ca46d8>, 'staff': 1, 'chord_index': 0, 'pedal': <musicXML_parser.mxp.note_dynamic.NotePedal object at 0x7f2e63ca4710>, 'following_note': None, 'on_beat': False, 'is_print_object': True, 'following_rest_duration': 0, 'measure_number': 0, 'midi_channel': 1, 'midi_program': 1, 'velocity': 64}\n"
     ]
    }
   ],
   "source": [
    "print(perform_pair.pairs[0].score_note.__dict__)"
   ]
  },
  {
   "cell_type": "code",
   "execution_count": 8,
   "metadata": {},
   "outputs": [
    {
     "name": "stdout",
     "output_type": "stream",
     "text": [
      "{'xml_notations': <Element 'notations' at 0x7f2e754ee3b8>, 'is_accent': False, 'is_arpeggiate': False, 'is_fermata': False, 'is_mordent': False, 'is_staccato': False, 'is_tenuto': False, 'tie': None, 'tied_start': True, 'tied_stop': False, 'is_trill': False, 'is_tuplet': False, 'is_strong_accent': False, 'wavy_line': None}\n"
     ]
    }
   ],
   "source": [
    "print(perform_pair.pairs[0].score_note.note_notations.__dict__)"
   ]
  },
  {
   "cell_type": "code",
   "execution_count": 9,
   "metadata": {
    "collapsed": false
   },
   "outputs": [
    {
     "name": "stdout",
     "output_type": "stream",
     "text": [
      "Measure: 24 {'duration': 0, 'midi_ticks': 0.0, 'seconds': 0.0, 'time_position': 87.89117647058823, 'xml_position': 63840, 'dots': 0, '_type': 'eighth', 'tuplet_ratio': Fraction(1, 1), 'is_grace_note': True, 'state': <musicXML_parser.mxp.main.MusicXMLParserState object at 0x7f2e754484e0>, 'after_grace_note': True, 'grace_order': -1, 'num_grace': 1}\nMeasure: 26 {'duration': 0, 'midi_ticks': 0.0, 'seconds': 0.0, 'time_position': 92.93319327731093, 'xml_position': 68640, 'dots': 0, '_type': 'eighth', 'tuplet_ratio': Fraction(1, 1), 'is_grace_note': True, 'state': <musicXML_parser.mxp.main.MusicXMLParserState object at 0x7f2e754484e0>, 'after_grace_note': True, 'grace_order': -1, 'num_grace': 1}\nMeasure: 28 {'duration': 0, 'midi_ticks': 0.0, 'seconds': 0.0, 'time_position': 98.98361344537815, 'xml_position': 74400, 'dots': 0, '_type': 'eighth', 'tuplet_ratio': Fraction(1, 1), 'is_grace_note': True, 'state': <musicXML_parser.mxp.main.MusicXMLParserState object at 0x7f2e754484e0>, 'after_grace_note': True, 'grace_order': -1, 'num_grace': 1}\nMeasure: 92 {'duration': 0, 'midi_ticks': 0.0, 'seconds': 0.0, 'time_position': 239.42793869632652, 'xml_position': 260880, 'dots': 0, '_type': 'eighth', 'tuplet_ratio': Fraction(1, 1), 'is_grace_note': True, 'state': <musicXML_parser.mxp.main.MusicXMLParserState object at 0x7f2e754484e0>, 'after_grace_note': True, 'grace_order': -1, 'num_grace': 1}\nMeasure: 112 {'duration': 0, 'midi_ticks': 0.0, 'seconds': 0.0, 'time_position': 296.03445529873915, 'xml_position': 317280, 'dots': 0, '_type': '16th', 'tuplet_ratio': Fraction(1, 1), 'is_grace_note': True, 'state': <musicXML_parser.mxp.main.MusicXMLParserState object at 0x7f2e754484e0>, 'after_grace_note': True, 'grace_order': -2, 'num_grace': 2}\nMeasure: 112 {'duration': 0, 'midi_ticks': 0.0, 'seconds': 0.0, 'time_position': 296.0594552987392, 'xml_position': 317280, 'dots': 0, '_type': '16th', 'tuplet_ratio': Fraction(1, 1), 'is_grace_note': True, 'state': <musicXML_parser.mxp.main.MusicXMLParserState object at 0x7f2e754484e0>, 'after_grace_note': True, 'grace_order': -1, 'num_grace': 2}\nMeasure: 161 {'duration': 0, 'midi_ticks': 0.0, 'seconds': 0.0, 'time_position': 378.61196933241996, 'xml_position': 458400, 'dots': 0, '_type': 'eighth', 'tuplet_ratio': Fraction(1, 1), 'is_grace_note': True, 'state': <musicXML_parser.mxp.main.MusicXMLParserState object at 0x7f2e754484e0>, 'after_grace_note': True, 'grace_order': -1, 'num_grace': 1}\nMeasure: 169 {'duration': 0, 'midi_ticks': 0.0, 'seconds': 0.0, 'time_position': 388.4930038151786, 'xml_position': 481440, 'dots': 0, '_type': 'eighth', 'tuplet_ratio': Fraction(1, 1), 'is_grace_note': True, 'state': <musicXML_parser.mxp.main.MusicXMLParserState object at 0x7f2e754484e0>, 'after_grace_note': True, 'grace_order': -2, 'num_grace': 2}\nMeasure: 169 {'duration': 0, 'midi_ticks': 0.0, 'seconds': 0.0, 'time_position': 388.5430038151786, 'xml_position': 481440, 'dots': 0, '_type': 'eighth', 'tuplet_ratio': Fraction(1, 1), 'is_grace_note': True, 'state': <musicXML_parser.mxp.main.MusicXMLParserState object at 0x7f2e754484e0>, 'after_grace_note': True, 'grace_order': -1, 'num_grace': 2}\nMeasure: 170 {'duration': 0, 'midi_ticks': 0.0, 'seconds': 0.0, 'time_position': 389.73438312552344, 'xml_position': 484320, 'dots': 0, '_type': 'eighth', 'tuplet_ratio': Fraction(1, 1), 'is_grace_note': True, 'state': <musicXML_parser.mxp.main.MusicXMLParserState object at 0x7f2e754484e0>, 'after_grace_note': True, 'grace_order': -2, 'num_grace': 2}\nMeasure: 170 {'duration': 0, 'midi_ticks': 0.0, 'seconds': 0.0, 'time_position': 389.78438312552345, 'xml_position': 484320, 'dots': 0, '_type': 'eighth', 'tuplet_ratio': Fraction(1, 1), 'is_grace_note': True, 'state': <musicXML_parser.mxp.main.MusicXMLParserState object at 0x7f2e754484e0>, 'after_grace_note': True, 'grace_order': -1, 'num_grace': 2}\nMeasure: 171 {'duration': 0, 'midi_ticks': 0.0, 'seconds': 0.0, 'time_position': 390.97576243586826, 'xml_position': 487200, 'dots': 0, '_type': 'eighth', 'tuplet_ratio': Fraction(1, 1), 'is_grace_note': True, 'state': <musicXML_parser.mxp.main.MusicXMLParserState object at 0x7f2e754484e0>, 'after_grace_note': True, 'grace_order': -2, 'num_grace': 2}\nMeasure: 171 {'duration': 0, 'midi_ticks': 0.0, 'seconds': 0.0, 'time_position': 391.0257624358683, 'xml_position': 487200, 'dots': 0, '_type': 'eighth', 'tuplet_ratio': Fraction(1, 1), 'is_grace_note': True, 'state': <musicXML_parser.mxp.main.MusicXMLParserState object at 0x7f2e754484e0>, 'after_grace_note': True, 'grace_order': -1, 'num_grace': 2}\nMeasure: 172 {'duration': 0, 'midi_ticks': 0.0, 'seconds': 0.0, 'time_position': 391.8533486427648, 'xml_position': 489120, 'dots': 0, '_type': 'eighth', 'tuplet_ratio': Fraction(1, 1), 'is_grace_note': True, 'state': <musicXML_parser.mxp.main.MusicXMLParserState object at 0x7f2e754484e0>, 'after_grace_note': True, 'grace_order': -1, 'num_grace': 1}\nMeasure: 257 {'duration': 0, 'midi_ticks': 0.0, 'seconds': 0.0, 'time_position': 526.2033063279242, 'xml_position': 686400, 'dots': 0, '_type': 'eighth', 'tuplet_ratio': Fraction(1, 1), 'is_grace_note': True, 'state': <musicXML_parser.mxp.main.MusicXMLParserState object at 0x7f2e754484e0>, 'after_grace_note': True, 'grace_order': -1, 'num_grace': 1}\nMeasure: 257 {'duration': 0, 'midi_ticks': 0.0, 'seconds': 0.0, 'time_position': 526.2033063279242, 'xml_position': 686400, 'dots': 0, '_type': 'eighth', 'tuplet_ratio': Fraction(1, 1), 'is_grace_note': True, 'state': <musicXML_parser.mxp.main.MusicXMLParserState object at 0x7f2e754484e0>, 'after_grace_note': True, 'grace_order': -1, 'num_grace': 1}\nMeasure: 257 {'duration': 0, 'midi_ticks': 0.0, 'seconds': 0.0, 'time_position': 527.0033063279242, 'xml_position': 686720, 'dots': 0, '_type': 'eighth', 'tuplet_ratio': Fraction(1, 1), 'is_grace_note': True, 'state': <musicXML_parser.mxp.main.MusicXMLParserState object at 0x7f2e754484e0>, 'after_grace_note': True, 'grace_order': -1, 'num_grace': 1}\nMeasure: 257 {'duration': 0, 'midi_ticks': 0.0, 'seconds': 0.0, 'time_position': 527.0033063279242, 'xml_position': 686720, 'dots': 0, '_type': 'eighth', 'tuplet_ratio': Fraction(1, 1), 'is_grace_note': True, 'state': <musicXML_parser.mxp.main.MusicXMLParserState object at 0x7f2e754484e0>, 'after_grace_note': True, 'grace_order': -1, 'num_grace': 1}\nMeasure: 257 {'duration': 0, 'midi_ticks': 0.0, 'seconds': 0.0, 'time_position': 527.8033063279242, 'xml_position': 687040, 'dots': 0, '_type': 'eighth', 'tuplet_ratio': Fraction(1, 1), 'is_grace_note': True, 'state': <musicXML_parser.mxp.main.MusicXMLParserState object at 0x7f2e754484e0>, 'after_grace_note': True, 'grace_order': -1, 'num_grace': 1}\nMeasure: 257 {'duration': 0, 'midi_ticks': 0.0, 'seconds': 0.0, 'time_position': 527.8033063279242, 'xml_position': 687040, 'dots': 0, '_type': 'eighth', 'tuplet_ratio': Fraction(1, 1), 'is_grace_note': True, 'state': <musicXML_parser.mxp.main.MusicXMLParserState object at 0x7f2e754484e0>, 'after_grace_note': True, 'grace_order': -1, 'num_grace': 1}\nMeasure: 258 {'duration': 0, 'midi_ticks': 0.0, 'seconds': 0.0, 'time_position': 528.6033063279242, 'xml_position': 687360, 'dots': 0, '_type': 'eighth', 'tuplet_ratio': Fraction(1, 1), 'is_grace_note': True, 'state': <musicXML_parser.mxp.main.MusicXMLParserState object at 0x7f2e754484e0>, 'after_grace_note': True, 'grace_order': -1, 'num_grace': 1}\nMeasure: 258 {'duration': 0, 'midi_ticks': 0.0, 'seconds': 0.0, 'time_position': 528.6033063279242, 'xml_position': 687360, 'dots': 0, '_type': 'eighth', 'tuplet_ratio': Fraction(1, 1), 'is_grace_note': True, 'state': <musicXML_parser.mxp.main.MusicXMLParserState object at 0x7f2e754484e0>, 'after_grace_note': True, 'grace_order': -1, 'num_grace': 1}\nMeasure: 258 {'duration': 0, 'midi_ticks': 0.0, 'seconds': 0.0, 'time_position': 529.4033063279243, 'xml_position': 687680, 'dots': 0, '_type': 'eighth', 'tuplet_ratio': Fraction(1, 1), 'is_grace_note': True, 'state': <musicXML_parser.mxp.main.MusicXMLParserState object at 0x7f2e754484e0>, 'after_grace_note': True, 'grace_order': -1, 'num_grace': 1}\nMeasure: 258 {'duration': 0, 'midi_ticks': 0.0, 'seconds': 0.0, 'time_position': 529.4033063279243, 'xml_position': 687680, 'dots': 0, '_type': 'eighth', 'tuplet_ratio': Fraction(1, 1), 'is_grace_note': True, 'state': <musicXML_parser.mxp.main.MusicXMLParserState object at 0x7f2e754484e0>, 'after_grace_note': True, 'grace_order': -1, 'num_grace': 1}\nMeasure: 258 {'duration': 0, 'midi_ticks': 0.0, 'seconds': 0.0, 'time_position': 530.2033063279242, 'xml_position': 688000, 'dots': 0, '_type': 'eighth', 'tuplet_ratio': Fraction(1, 1), 'is_grace_note': True, 'state': <musicXML_parser.mxp.main.MusicXMLParserState object at 0x7f2e754484e0>, 'after_grace_note': True, 'grace_order': -1, 'num_grace': 1}\nMeasure: 258 {'duration': 0, 'midi_ticks': 0.0, 'seconds': 0.0, 'time_position': 530.2033063279242, 'xml_position': 688000, 'dots': 0, '_type': 'eighth', 'tuplet_ratio': Fraction(1, 1), 'is_grace_note': True, 'state': <musicXML_parser.mxp.main.MusicXMLParserState object at 0x7f2e754484e0>, 'after_grace_note': True, 'grace_order': -1, 'num_grace': 1}\nMeasure: 258 {'duration': 0, 'midi_ticks': 0.0, 'seconds': 0.0, 'time_position': 531.0033063279242, 'xml_position': 688320, 'dots': 0, '_type': 'eighth', 'tuplet_ratio': Fraction(1, 1), 'is_grace_note': True, 'state': <musicXML_parser.mxp.main.MusicXMLParserState object at 0x7f2e754484e0>, 'after_grace_note': True, 'grace_order': -1, 'num_grace': 1}\nMeasure: 258 {'duration': 0, 'midi_ticks': 0.0, 'seconds': 0.0, 'time_position': 531.0033063279242, 'xml_position': 688320, 'dots': 0, '_type': 'eighth', 'tuplet_ratio': Fraction(1, 1), 'is_grace_note': True, 'state': <musicXML_parser.mxp.main.MusicXMLParserState object at 0x7f2e754484e0>, 'after_grace_note': True, 'grace_order': -1, 'num_grace': 1}\n"
     ]
    }
   ],
   "source": [
    "for note in xml_sequence.notes:\n",
    "  if note.note_duration.is_grace_note:\n",
    "    print('Measure: {:d}'.format(note.measure_number), note.note_duration.__dict__)"
   ]
  },
  {
   "cell_type": "code",
   "execution_count": null,
   "metadata": {},
   "outputs": [],
   "source": []
  }
 ],
 "metadata": {
  "kernelspec": {
   "display_name": "Python 2",
   "language": "python",
   "name": "python2"
  },
  "language_info": {
   "codemirror_mode": {
    "name": "ipython",
    "version": 2
   },
   "file_extension": ".py",
   "mimetype": "text/x-python",
   "name": "python",
   "nbconvert_exporter": "python",
   "pygments_lexer": "ipython2",
   "version": "2.7.6"
  }
 },
 "nbformat": 4,
 "nbformat_minor": 0
}
