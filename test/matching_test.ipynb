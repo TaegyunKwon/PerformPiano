{
 "cells": [
  {
   "cell_type": "code",
   "execution_count": 1,
   "metadata": {
    "collapsed": true
   },
   "outputs": [],
   "source": [
    "import xml_data\n",
    "import matching\n",
    "import pretty_midi\n",
    "test_xml = 'examples/ballade1/musicxml_cleaned.musicxml'\n",
    "test_perform = 'examples/ballade1/Ali01.mid'"
   ]
  },
  {
   "cell_type": "code",
   "execution_count": 2,
   "metadata": {},
   "outputs": [],
   "source": [
    "xml_sequence = xml_data.XmlNoteSequence(test_xml)\n",
    "perform_pair = matching.PerformPair(xml_sequence, test_perform)"
   ]
  },
  {
   "cell_type": "code",
   "execution_count": 4,
   "metadata": {
    "collapsed": true
   },
   "outputs": [
    {
     "name": "stdout",
     "output_type": "stream",
     "text": [
      "[{'xml_direction': <Element 'direction' at 0x7f1e0a6acd18>, 'type': {'type': 'words', 'content': 'f pesante'}, 'state': <musicXML_parser.mxp.main.MusicXMLParserState object at 0x7f1e08e9f5c0>, 'placement': 'below', 'time_position': 0, 'xml_position': 0, 'staff': '1', 'end_xml_position': 13440, 'previous_tempo': 'Lento', 'next_tempo': 'Moderato'}, {'xml_direction': <Element 'direction' at 0x7f1e0a65db38>, 'type': {'type': 'dynamic', 'content': 'p'}, 'state': <musicXML_parser.mxp.main.MusicXMLParserState object at 0x7f1e08eb7978>, 'placement': 'below', 'time_position': 15.625, 'xml_position': 6000, 'staff': '1'}, {'xml_direction': <Element 'direction' at 0x7f1e0a608228>, 'type': {'type': 'dynamic', 'content': 'p'}, 'state': <musicXML_parser.mxp.main.MusicXMLParserState object at 0x7f1e08e4b9e8>, 'placement': 'below', 'time_position': 27.500000000000014, 'xml_position': 10560, 'staff': '1'}, {'xml_direction': <Element 'direction' at 0x7f1e0a611ef8>, 'type': {'type': 'words', 'content': 'p dolce'}, 'state': <musicXML_parser.mxp.main.MusicXMLParserState object at 0x7f1e08e53278>, 'placement': 'below', 'time_position': 36.51260504201682, 'xml_position': 14880, 'staff': '1'}, {'xml_direction': <Element 'direction' at 0x7f1e0a4a5728>, 'type': {'type': 'dynamic', 'content': 'p'}, 'state': <musicXML_parser.mxp.main.MusicXMLParserState object at 0x7f1e08d47f98>, 'placement': 'below', 'time_position': 89.45378151260472, 'xml_position': 65280, 'staff': '1'}, {'xml_direction': <Element 'direction' at 0x7f1e0a415ae8>, 'type': {'type': 'dynamic', 'content': 'pp'}, 'state': <musicXML_parser.mxp.main.MusicXMLParserState object at 0x7f1e08d0cef0>, 'placement': 'below', 'time_position': 107.76567264073731, 'xml_position': 82560, 'staff': '1'}, {'xml_direction': <Element 'direction' at 0x7f1e0a391778>, 'type': {'type': 'dynamic', 'content': 'p'}, 'state': <musicXML_parser.mxp.main.MusicXMLParserState object at 0x7f1e08cceef0>, 'placement': 'below', 'time_position': 120.50903547259605, 'xml_position': 94080, 'staff': '1'}, {'xml_direction': <Element 'direction' at 0x7f1e0a300c78>, 'type': {'type': 'dynamic', 'content': 'f'}, 'state': <musicXML_parser.mxp.main.MusicXMLParserState object at 0x7f1e08c941d0>, 'placement': 'below', 'time_position': 132.63664757938605, 'xml_position': 105600, 'staff': '1'}, {'xml_direction': <Element 'direction' at 0x7f1e0a2f5368>, 'type': {'type': 'dynamic', 'content': 'f'}, 'state': <musicXML_parser.mxp.main.MusicXMLParserState object at 0x7f1e08c52b70>, 'placement': 'below', 'time_position': 143.43935672274492, 'xml_position': 117120, 'staff': '1'}, {'xml_direction': <Element 'direction' at 0x7f1e0a25bd18>, 'type': {'type': 'words', 'content': 'pi첫 f'}, 'state': <musicXML_parser.mxp.main.MusicXMLParserState object at 0x7f1e08c0f2b0>, 'placement': 'below', 'time_position': 149.43935672274492, 'xml_position': 128640, 'staff': '1'}, {'xml_direction': <Element 'direction' at 0x7f1e0a1f74a8>, 'type': {'type': 'words', 'content': 'poco a poco meno f'}, 'state': <musicXML_parser.mxp.main.MusicXMLParserState object at 0x7f1e08be95f8>, 'placement': 'above', 'time_position': 158.43935672274492, 'xml_position': 145920, 'staff': '1'}, {'xml_direction': <Element 'direction' at 0x7f1e0a165b38>, 'type': {'type': 'words', 'content': 'sempre pi첫 p'}, 'state': <musicXML_parser.mxp.main.MusicXMLParserState object at 0x7f1e08bb0b00>, 'placement': 'above', 'time_position': 167.43935672274492, 'xml_position': 163200, 'staff': '1'}, {'xml_direction': <Element 'direction' at 0x7f1e0a0e33b8>, 'type': {'type': 'dynamic', 'content': 'pp'}, 'state': <musicXML_parser.mxp.main.MusicXMLParserState object at 0x7f1e08afd9e8>, 'placement': 'below', 'time_position': 179.2052114235997, 'xml_position': 186240, 'staff': '1'}, {'xml_direction': <Element 'direction' at 0x7f1e0a016318>, 'type': {'type': 'words', 'content': 'sempre pp'}, 'state': <musicXML_parser.mxp.main.MusicXMLParserState object at 0x7f1e08ae4e80>, 'placement': 'below', 'time_position': 210.7052114235997, 'xml_position': 226560, 'staff': '1'}, {'xml_direction': <Element 'direction' at 0x7f1e09f3ee08>, 'type': {'type': 'words', 'content': 'sempre pi첫 p'}, 'state': <musicXML_parser.mxp.main.MusicXMLParserState object at 0x7f1e08a40898>, 'placement': 'below', 'time_position': 228.7052114235997, 'xml_position': 249600, 'staff': '1'}, {'xml_direction': <Element 'direction' at 0x7f1e09f1b818>, 'type': {'type': 'dynamic', 'content': 'pp'}, 'state': <musicXML_parser.mxp.main.MusicXMLParserState object at 0x7f1e08a76518>, 'placement': 'above', 'time_position': 239.75066596905444, 'xml_position': 261120, 'staff': '2'}, {'xml_direction': <Element 'direction' at 0x7f1e09f381d8>, 'type': {'type': 'words', 'content': 'sempre pp'}, 'state': <musicXML_parser.mxp.main.MusicXMLParserState object at 0x7f1e08a06d30>, 'placement': 'below', 'time_position': 247.81789285981102, 'xml_position': 268800, 'staff': '1'}, {'xml_direction': <Element 'direction' at 0x7f1e09e9c868>, 'type': {'type': 'dynamic', 'content': 'f'}, 'state': <musicXML_parser.mxp.main.MusicXMLParserState object at 0x7f1e089c0a20>, 'placement': 'below', 'time_position': 257.9019264732571, 'xml_position': 278400, 'staff': '1'}, {'xml_direction': <Element 'direction' at 0x7f1e09e9cea8>, 'type': {'type': 'dynamic', 'content': 'pp'}, 'state': <musicXML_parser.mxp.main.MusicXMLParserState object at 0x7f1e089c0c88>, 'placement': 'below', 'time_position': 259.4145315152739, 'xml_position': 279840, 'staff': '1'}, {'xml_direction': <Element 'direction' at 0x7f1e09dcbdb8>, 'type': {'type': 'dynamic', 'content': 'ff'}, 'state': <musicXML_parser.mxp.main.MusicXMLParserState object at 0x7f1e089b32e8>, 'placement': 'below', 'time_position': 275.15422274060217, 'xml_position': 295680, 'staff': '1'}, {'xml_direction': <Element 'direction' at 0x7f1e09d34a98>, 'type': {'type': 'dynamic', 'content': 'ff'}, 'state': <musicXML_parser.mxp.main.MusicXMLParserState object at 0x7f1e08937f98>, 'placement': 'below', 'time_position': 297.479804135952, 'xml_position': 318720, 'staff': '1'}, {'xml_direction': <Element 'direction' at 0x7f1e09c8a818>, 'type': {'type': 'words', 'content': 'sempre pi첫 f'}, 'state': <musicXML_parser.mxp.main.MusicXMLParserState object at 0x7f1e088efef0>, 'placement': 'below', 'time_position': 308.6425948336268, 'xml_position': 330240, 'staff': '1'}, {'xml_direction': <Element 'direction' at 0x7f1e09bedb38>, 'type': {'type': 'dynamic', 'content': 'p'}, 'state': <musicXML_parser.mxp.main.MusicXMLParserState object at 0x7f1e0886f940>, 'placement': 'below', 'time_position': 330.9681762289762, 'xml_position': 353280, 'staff': '1'}, {'xml_direction': <Element 'direction' at 0x7f1e09bb5db8>, 'type': {'type': 'dynamic', 'content': 'f'}, 'state': <musicXML_parser.mxp.main.MusicXMLParserState object at 0x7f1e0881ca20>, 'placement': 'below', 'time_position': 336.7281762289766, 'xml_position': 364800, 'staff': '1'}, {'xml_direction': <Element 'direction' at 0x7f1e09acf4f8>, 'type': {'type': 'dynamic', 'content': 'p'}, 'state': <musicXML_parser.mxp.main.MusicXMLParserState object at 0x7f1e087f4e10>, 'placement': 'below', 'time_position': 348.2481762289774, 'xml_position': 387840, 'staff': '1'}, {'xml_direction': <Element 'direction' at 0x7f1e09978188>, 'type': {'type': 'dynamic', 'content': 'ff'}, 'state': <musicXML_parser.mxp.main.MusicXMLParserState object at 0x7f1e086eb128>, 'placement': 'below', 'time_position': 368.1102451944978, 'xml_position': 433920, 'staff': '1'}, {'xml_direction': <Element 'direction' at 0x7f1e098e7ef8>, 'type': {'type': 'dynamic', 'content': 'p'}, 'state': <musicXML_parser.mxp.main.MusicXMLParserState object at 0x7f1e086ab9e8>, 'placement': 'below', 'time_position': 373.2826589876023, 'xml_position': 445920, 'staff': '1'}, {'xml_direction': <Element 'direction' at 0x7f1e098aaf98>, 'type': {'type': 'words', 'content': 'pi첫 f'}, 'state': <musicXML_parser.mxp.main.MusicXMLParserState object at 0x7f1e08659668>, 'placement': 'below', 'time_position': 377.0067969186374, 'xml_position': 454560, 'staff': '1'}, {'xml_direction': <Element 'direction' at 0x7f1e09807908>, 'type': {'type': 'dynamic', 'content': 'ff'}, 'state': <musicXML_parser.mxp.main.MusicXMLParserState object at 0x7f1e0860eeb8>, 'placement': 'below', 'time_position': 383.0067969186385, 'xml_position': 468480, 'staff': '1'}, {'xml_direction': <Element 'direction' at 0x7f1e0975cef8>, 'type': {'type': 'dynamic', 'content': 'ff'}, 'state': <musicXML_parser.mxp.main.MusicXMLParserState object at 0x7f1e085884e0>, 'placement': 'below', 'time_position': 392.9378314013997, 'xml_position': 491520, 'staff': '1'}, {'xml_direction': <Element 'direction' at 0x7f1e09665b88>, 'type': {'type': 'words', 'content': 'sempre f'}, 'state': <musicXML_parser.mxp.main.MusicXMLParserState object at 0x7f1e08518358>, 'placement': 'below', 'time_position': 409.2136934703657, 'xml_position': 520320, 'staff': '1'}, {'xml_direction': <Element 'direction' at 0x7f1e09540868>, 'type': {'type': 'dynamic', 'content': 'pp'}, 'state': <musicXML_parser.mxp.main.MusicXMLParserState object at 0x7f1e0848fb00>, 'placement': 'below', 'time_position': 433.4626828371619, 'xml_position': 549120, 'staff': '1'}, {'xml_direction': <Element 'direction' at 0x7f1e09567e08>, 'type': {'type': 'words', 'content': 'sempre pp'}, 'state': <musicXML_parser.mxp.main.MusicXMLParserState object at 0x7f1e084a8a20>, 'placement': 'below', 'time_position': 441.27780888758224, 'xml_position': 556560, 'staff': '1'}, {'xml_direction': <Element 'direction' at 0x7f1e094c9cc8>, 'type': {'type': 'dynamic', 'content': 'f'}, 'state': <musicXML_parser.mxp.main.MusicXMLParserState object at 0x7f1e08462128>, 'placement': 'below', 'time_position': 451.6139433413641, 'xml_position': 566400, 'staff': '1'}, {'xml_direction': <Element 'direction' at 0x7f1e094cd4f8>, 'type': {'type': 'dynamic', 'content': 'p'}, 'state': <musicXML_parser.mxp.main.MusicXMLParserState object at 0x7f1e08462550>, 'placement': 'below', 'time_position': 453.37864922371705, 'xml_position': 568080, 'staff': '1'}, {'xml_direction': <Element 'direction' at 0x7f1e09478bd8>, 'type': {'type': 'words', 'content': 'il pi첫 forte possibile'}, 'state': <musicXML_parser.mxp.main.MusicXMLParserState object at 0x7f1e083cdeb8>, 'placement': 'below', 'time_position': 469.7652038455664, 'xml_position': 583680, 'staff': '1'}, {'xml_direction': <Element 'direction' at 0x7f1e093dda48>, 'type': {'type': 'dynamic', 'content': 'ff'}, 'state': <musicXML_parser.mxp.main.MusicXMLParserState object at 0x7f1e08385a58>, 'placement': 'below', 'time_position': 475.6349155233411, 'xml_position': 589920, 'staff': '1'}, {'xml_direction': <Element 'direction' at 0x7f1e091aee08>, 'type': {'type': 'dynamic', 'content': 'ff'}, 'state': <musicXML_parser.mxp.main.MusicXMLParserState object at 0x7f1e08263cf8>, 'placement': 'below', 'time_position': 496.9452603509296, 'xml_position': 639360, 'staff': '1'}, {'xml_direction': <Element 'direction' at 0x7f1e090c0138>, 'type': {'type': 'words', 'content': 'sempre ff'}, 'state': <musicXML_parser.mxp.main.MusicXMLParserState object at 0x7f1e082395c0>, 'placement': 'below', 'time_position': 501.91077759230956, 'xml_position': 650880, 'staff': '1'}, {'xml_direction': <Element 'direction' at 0x7f1e08ff42c8>, 'type': {'type': 'words', 'content': 'p (pesante)'}, 'state': <musicXML_parser.mxp.main.MusicXMLParserState object at 0x7f1e08151240>, 'placement': 'above', 'time_position': 513.186639661276, 'xml_position': 674880, 'staff': '2', 'end_xml_position': 676960, 'previous_tempo': 'Presto con fuoco'}, {'xml_direction': <Element 'direction' at 0x7f1e08f7d188>, 'type': {'type': 'dynamic', 'content': 'f'}, 'state': <musicXML_parser.mxp.main.MusicXMLParserState object at 0x7f1e08155198>, 'placement': 'below', 'time_position': 516.6533063279427, 'xml_position': 676960, 'staff': '1'}, {'xml_direction': <Element 'direction' at 0x7f1e08f66b38>, 'type': {'type': 'dynamic', 'content': 'p'}, 'state': <musicXML_parser.mxp.main.MusicXMLParserState object at 0x7f1e08104470>, 'placement': 'below', 'time_position': 521.3199729946095, 'xml_position': 682560, 'staff': '1'}, {'xml_direction': <Element 'direction' at 0x7f1e08f77e08>, 'type': {'type': 'dynamic', 'content': 'f'}, 'state': <musicXML_parser.mxp.main.MusicXMLParserState object at 0x7f1e0810f630>, 'placement': 'below', 'time_position': 524.7866396612761, 'xml_position': 684640, 'staff': '1'}, {'xml_direction': <Element 'direction' at 0x7f1e08f0e278>, 'type': {'type': 'dynamic', 'content': 'fff'}, 'state': <musicXML_parser.mxp.main.MusicXMLParserState object at 0x7f1e08119898>, 'placement': 'below', 'time_position': 526.2533063279427, 'xml_position': 686400, 'staff': '1'}]\n"
     ]
    }
   ],
   "source": [
    "print([el.__dict__ for el in xml_sequence.meta.abs_dynamics])"
   ]
  },
  {
   "cell_type": "code",
   "execution_count": 6,
   "metadata": {},
   "outputs": [],
   "source": [
    "perform_midi = pretty_midi.PrettyMIDI(test_perform)\n",
    "perform_notes = perform_midi.instruments[0].notes\n",
    "perform_notes.sort(key=lambda note: note.start)\n"
   ]
  },
  {
   "cell_type": "code",
   "execution_count": 7,
   "metadata": {},
   "outputs": [
    {
     "name": "stdout",
     "output_type": "stream",
     "text": [
      "[Note(start=1.507744, end=5.121523, pitch=48, velocity=83), Note(start=1.510415, end=5.280443, pitch=36, velocity=84), Note(start=5.072110, end=5.802612, pitch=51, velocity=55), Note(start=5.101491, end=5.723819, pitch=39, velocity=41), Note(start=5.917462, end=6.379534, pitch=56, velocity=57), Note(start=5.933488, end=6.454320, pitch=44, velocity=37), Note(start=6.485036, end=6.805549, pitch=58, velocity=66), Note(start=6.499726, end=6.696040, pitch=46, velocity=44), Note(start=6.928412, end=7.170132, pitch=60, velocity=71), Note(start=6.943102, end=7.220880, pitch=48, velocity=43)]\n"
     ]
    }
   ],
   "source": [
    "print(perform_notes[:10])"
   ]
  },
  {
   "cell_type": "code",
   "execution_count": 8,
   "metadata": {},
   "outputs": [
    {
     "name": "stdout",
     "output_type": "stream",
     "text": [
      "[1.50774421875, 1.5104151562500001, 5.0721103125, 5.101490625, 5.91746203125, 5.9334876562500005, 6.48503625, 6.499726406250001, 6.928411875, 6.9431020312500005]\n"
     ]
    }
   ],
   "source": [
    "a = [el.start for el in perform_notes]\n",
    "print(a[:10])"
   ]
  },
  {
   "cell_type": "code",
   "execution_count": 9,
   "metadata": {},
   "outputs": [
    {
     "name": "stdout",
     "output_type": "stream",
     "text": [
      "{'xml_note': <Element 'note' at 0x7f1e0a6acef8>, 'voice': 1, 'is_rest': False, 'is_in_chord': False, 'is_grace_note': False, 'is_overlapped': False, 'pitch': ('C3', 48), 'note_duration': <musicXML_parser.mxp.note_duration.NoteDuration object at 0x7f1e08e9f630>, 'state_fixed': <musicXML_parser.mxp.main.MusicXMLParserState object at 0x7f1e08e9f6a0>, 'state': <musicXML_parser.mxp.main.MusicXMLParserState object at 0x7f1e0a6a3630>, 'note_notations': <musicXML_parser.mxp.notations.Notations object at 0x7f1e08e9f6d8>, 'dynamic': <musicXML_parser.mxp.note_dynamic.NoteDynamic object at 0x7f1e08e9f710>, 'tempo': <musicXML_parser.mxp.note_dynamic.NoteTempo object at 0x7f1e08e9f748>, 'staff': 1, 'chord_index': 0, 'pedal': <musicXML_parser.mxp.note_dynamic.NotePedal object at 0x7f1e08e9f780>, 'following_note': None, 'on_beat': False, 'is_print_object': True, 'following_rest_duration': 0, 'measure_number': 0, 'beat_position': 0.0, 'length_in_beat': 2.5, 'beat_location': 0.0, 'midi_channel': 1, 'midi_program': 1, 'velocity': 64}\n"
     ]
    }
   ],
   "source": [
    "print(perform_pair.pairs[0].score_note.__dict__)"
   ]
  },
  {
   "cell_type": "code",
   "execution_count": 10,
   "metadata": {},
   "outputs": [
    {
     "name": "stdout",
     "output_type": "stream",
     "text": [
      "{'xml_notations': <Element 'notations' at 0x7f1e0a6b4278>, 'is_accent': False, 'is_arpeggiate': False, 'is_fermata': False, 'is_mordent': False, 'is_staccato': False, 'is_tenuto': False, 'tie': None, 'tied_start': True, 'tied_stop': False, 'is_trill': False, 'is_tuplet': False, 'is_strong_accent': False, 'wavy_line': None}\n"
     ]
    }
   ],
   "source": [
    "print(perform_pair.pairs[0].score_note.note_notations.__dict__)"
   ]
  },
  {
   "cell_type": "code",
   "execution_count": 11,
   "metadata": {
    "collapsed": true
   },
   "outputs": [
    {
     "name": "stdout",
     "output_type": "stream",
     "text": [
      "Measure: 24 {'duration': 0, 'midi_ticks': 0.0, 'seconds': 0.0, 'time_position': 87.89117647058823, 'xml_position': 63840, 'dots': 0, '_type': 'eighth', 'tuplet_ratio': Fraction(1, 1), 'is_grace_note': True, 'state': <musicXML_parser.mxp.main.MusicXMLParserState object at 0x7f1e0a6a3630>, 'after_grace_note': True, 'grace_order': -1, 'num_grace': 1}\nMeasure: 26 {'duration': 0, 'midi_ticks': 0.0, 'seconds': 0.0, 'time_position': 92.93319327731093, 'xml_position': 68640, 'dots': 0, '_type': 'eighth', 'tuplet_ratio': Fraction(1, 1), 'is_grace_note': True, 'state': <musicXML_parser.mxp.main.MusicXMLParserState object at 0x7f1e0a6a3630>, 'after_grace_note': True, 'grace_order': -1, 'num_grace': 1}\nMeasure: 28 {'duration': 0, 'midi_ticks': 0.0, 'seconds': 0.0, 'time_position': 98.98361344537815, 'xml_position': 74400, 'dots': 0, '_type': 'eighth', 'tuplet_ratio': Fraction(1, 1), 'is_grace_note': True, 'state': <musicXML_parser.mxp.main.MusicXMLParserState object at 0x7f1e0a6a3630>, 'after_grace_note': True, 'grace_order': -1, 'num_grace': 1}\nMeasure: 92 {'duration': 0, 'midi_ticks': 0.0, 'seconds': 0.0, 'time_position': 239.42793869632652, 'xml_position': 260880, 'dots': 0, '_type': 'eighth', 'tuplet_ratio': Fraction(1, 1), 'is_grace_note': True, 'state': <musicXML_parser.mxp.main.MusicXMLParserState object at 0x7f1e0a6a3630>, 'after_grace_note': True, 'grace_order': -1, 'num_grace': 1}\nMeasure: 112 {'duration': 0, 'midi_ticks': 0.0, 'seconds': 0.0, 'time_position': 296.03445529873915, 'xml_position': 317280, 'dots': 0, '_type': '16th', 'tuplet_ratio': Fraction(1, 1), 'is_grace_note': True, 'state': <musicXML_parser.mxp.main.MusicXMLParserState object at 0x7f1e0a6a3630>, 'after_grace_note': True, 'grace_order': -2, 'num_grace': 2}\nMeasure: 112 {'duration': 0, 'midi_ticks': 0.0, 'seconds': 0.0, 'time_position': 296.0594552987392, 'xml_position': 317280, 'dots': 0, '_type': '16th', 'tuplet_ratio': Fraction(1, 1), 'is_grace_note': True, 'state': <musicXML_parser.mxp.main.MusicXMLParserState object at 0x7f1e0a6a3630>, 'after_grace_note': True, 'grace_order': -1, 'num_grace': 2}\nMeasure: 161 {'duration': 0, 'midi_ticks': 0.0, 'seconds': 0.0, 'time_position': 378.61196933241996, 'xml_position': 458400, 'dots': 0, '_type': 'eighth', 'tuplet_ratio': Fraction(1, 1), 'is_grace_note': True, 'state': <musicXML_parser.mxp.main.MusicXMLParserState object at 0x7f1e0a6a3630>, 'after_grace_note': True, 'grace_order': -1, 'num_grace': 1}\nMeasure: 169 {'duration': 0, 'midi_ticks': 0.0, 'seconds': 0.0, 'time_position': 388.4930038151786, 'xml_position': 481440, 'dots': 0, '_type': 'eighth', 'tuplet_ratio': Fraction(1, 1), 'is_grace_note': True, 'state': <musicXML_parser.mxp.main.MusicXMLParserState object at 0x7f1e0a6a3630>, 'after_grace_note': True, 'grace_order': -2, 'num_grace': 2}\nMeasure: 169 {'duration': 0, 'midi_ticks': 0.0, 'seconds': 0.0, 'time_position': 388.5430038151786, 'xml_position': 481440, 'dots': 0, '_type': 'eighth', 'tuplet_ratio': Fraction(1, 1), 'is_grace_note': True, 'state': <musicXML_parser.mxp.main.MusicXMLParserState object at 0x7f1e0a6a3630>, 'after_grace_note': True, 'grace_order': -1, 'num_grace': 2}\nMeasure: 170 {'duration': 0, 'midi_ticks': 0.0, 'seconds': 0.0, 'time_position': 389.73438312552344, 'xml_position': 484320, 'dots': 0, '_type': 'eighth', 'tuplet_ratio': Fraction(1, 1), 'is_grace_note': True, 'state': <musicXML_parser.mxp.main.MusicXMLParserState object at 0x7f1e0a6a3630>, 'after_grace_note': True, 'grace_order': -2, 'num_grace': 2}\nMeasure: 170 {'duration': 0, 'midi_ticks': 0.0, 'seconds': 0.0, 'time_position': 389.78438312552345, 'xml_position': 484320, 'dots': 0, '_type': 'eighth', 'tuplet_ratio': Fraction(1, 1), 'is_grace_note': True, 'state': <musicXML_parser.mxp.main.MusicXMLParserState object at 0x7f1e0a6a3630>, 'after_grace_note': True, 'grace_order': -1, 'num_grace': 2}\nMeasure: 171 {'duration': 0, 'midi_ticks': 0.0, 'seconds': 0.0, 'time_position': 390.97576243586826, 'xml_position': 487200, 'dots': 0, '_type': 'eighth', 'tuplet_ratio': Fraction(1, 1), 'is_grace_note': True, 'state': <musicXML_parser.mxp.main.MusicXMLParserState object at 0x7f1e0a6a3630>, 'after_grace_note': True, 'grace_order': -2, 'num_grace': 2}\nMeasure: 171 {'duration': 0, 'midi_ticks': 0.0, 'seconds': 0.0, 'time_position': 391.0257624358683, 'xml_position': 487200, 'dots': 0, '_type': 'eighth', 'tuplet_ratio': Fraction(1, 1), 'is_grace_note': True, 'state': <musicXML_parser.mxp.main.MusicXMLParserState object at 0x7f1e0a6a3630>, 'after_grace_note': True, 'grace_order': -1, 'num_grace': 2}\nMeasure: 172 {'duration': 0, 'midi_ticks': 0.0, 'seconds': 0.0, 'time_position': 391.8533486427648, 'xml_position': 489120, 'dots': 0, '_type': 'eighth', 'tuplet_ratio': Fraction(1, 1), 'is_grace_note': True, 'state': <musicXML_parser.mxp.main.MusicXMLParserState object at 0x7f1e0a6a3630>, 'after_grace_note': True, 'grace_order': -1, 'num_grace': 1}\nMeasure: 257 {'duration': 0, 'midi_ticks': 0.0, 'seconds': 0.0, 'time_position': 526.2033063279242, 'xml_position': 686400, 'dots': 0, '_type': 'eighth', 'tuplet_ratio': Fraction(1, 1), 'is_grace_note': True, 'state': <musicXML_parser.mxp.main.MusicXMLParserState object at 0x7f1e0a6a3630>, 'after_grace_note': True, 'grace_order': -1, 'num_grace': 1}\nMeasure: 257 {'duration': 0, 'midi_ticks': 0.0, 'seconds': 0.0, 'time_position': 526.2033063279242, 'xml_position': 686400, 'dots': 0, '_type': 'eighth', 'tuplet_ratio': Fraction(1, 1), 'is_grace_note': True, 'state': <musicXML_parser.mxp.main.MusicXMLParserState object at 0x7f1e0a6a3630>, 'after_grace_note': True, 'grace_order': -1, 'num_grace': 1}\nMeasure: 257 {'duration': 0, 'midi_ticks': 0.0, 'seconds': 0.0, 'time_position': 527.0033063279242, 'xml_position': 686720, 'dots': 0, '_type': 'eighth', 'tuplet_ratio': Fraction(1, 1), 'is_grace_note': True, 'state': <musicXML_parser.mxp.main.MusicXMLParserState object at 0x7f1e0a6a3630>, 'after_grace_note': True, 'grace_order': -1, 'num_grace': 1}\nMeasure: 257 {'duration': 0, 'midi_ticks': 0.0, 'seconds': 0.0, 'time_position': 527.0033063279242, 'xml_position': 686720, 'dots': 0, '_type': 'eighth', 'tuplet_ratio': Fraction(1, 1), 'is_grace_note': True, 'state': <musicXML_parser.mxp.main.MusicXMLParserState object at 0x7f1e0a6a3630>, 'after_grace_note': True, 'grace_order': -1, 'num_grace': 1}\nMeasure: 257 {'duration': 0, 'midi_ticks': 0.0, 'seconds': 0.0, 'time_position': 527.8033063279242, 'xml_position': 687040, 'dots': 0, '_type': 'eighth', 'tuplet_ratio': Fraction(1, 1), 'is_grace_note': True, 'state': <musicXML_parser.mxp.main.MusicXMLParserState object at 0x7f1e0a6a3630>, 'after_grace_note': True, 'grace_order': -1, 'num_grace': 1}\nMeasure: 257 {'duration': 0, 'midi_ticks': 0.0, 'seconds': 0.0, 'time_position': 527.8033063279242, 'xml_position': 687040, 'dots': 0, '_type': 'eighth', 'tuplet_ratio': Fraction(1, 1), 'is_grace_note': True, 'state': <musicXML_parser.mxp.main.MusicXMLParserState object at 0x7f1e0a6a3630>, 'after_grace_note': True, 'grace_order': -1, 'num_grace': 1}\nMeasure: 258 {'duration': 0, 'midi_ticks': 0.0, 'seconds': 0.0, 'time_position': 528.6033063279242, 'xml_position': 687360, 'dots': 0, '_type': 'eighth', 'tuplet_ratio': Fraction(1, 1), 'is_grace_note': True, 'state': <musicXML_parser.mxp.main.MusicXMLParserState object at 0x7f1e0a6a3630>, 'after_grace_note': True, 'grace_order': -1, 'num_grace': 1}\nMeasure: 258 {'duration': 0, 'midi_ticks': 0.0, 'seconds': 0.0, 'time_position': 528.6033063279242, 'xml_position': 687360, 'dots': 0, '_type': 'eighth', 'tuplet_ratio': Fraction(1, 1), 'is_grace_note': True, 'state': <musicXML_parser.mxp.main.MusicXMLParserState object at 0x7f1e0a6a3630>, 'after_grace_note': True, 'grace_order': -1, 'num_grace': 1}\nMeasure: 258 {'duration': 0, 'midi_ticks': 0.0, 'seconds': 0.0, 'time_position': 529.4033063279243, 'xml_position': 687680, 'dots': 0, '_type': 'eighth', 'tuplet_ratio': Fraction(1, 1), 'is_grace_note': True, 'state': <musicXML_parser.mxp.main.MusicXMLParserState object at 0x7f1e0a6a3630>, 'after_grace_note': True, 'grace_order': -1, 'num_grace': 1}\nMeasure: 258 {'duration': 0, 'midi_ticks': 0.0, 'seconds': 0.0, 'time_position': 529.4033063279243, 'xml_position': 687680, 'dots': 0, '_type': 'eighth', 'tuplet_ratio': Fraction(1, 1), 'is_grace_note': True, 'state': <musicXML_parser.mxp.main.MusicXMLParserState object at 0x7f1e0a6a3630>, 'after_grace_note': True, 'grace_order': -1, 'num_grace': 1}\nMeasure: 258 {'duration': 0, 'midi_ticks': 0.0, 'seconds': 0.0, 'time_position': 530.2033063279242, 'xml_position': 688000, 'dots': 0, '_type': 'eighth', 'tuplet_ratio': Fraction(1, 1), 'is_grace_note': True, 'state': <musicXML_parser.mxp.main.MusicXMLParserState object at 0x7f1e0a6a3630>, 'after_grace_note': True, 'grace_order': -1, 'num_grace': 1}\nMeasure: 258 {'duration': 0, 'midi_ticks': 0.0, 'seconds': 0.0, 'time_position': 530.2033063279242, 'xml_position': 688000, 'dots': 0, '_type': 'eighth', 'tuplet_ratio': Fraction(1, 1), 'is_grace_note': True, 'state': <musicXML_parser.mxp.main.MusicXMLParserState object at 0x7f1e0a6a3630>, 'after_grace_note': True, 'grace_order': -1, 'num_grace': 1}\nMeasure: 258 {'duration': 0, 'midi_ticks': 0.0, 'seconds': 0.0, 'time_position': 531.0033063279242, 'xml_position': 688320, 'dots': 0, '_type': 'eighth', 'tuplet_ratio': Fraction(1, 1), 'is_grace_note': True, 'state': <musicXML_parser.mxp.main.MusicXMLParserState object at 0x7f1e0a6a3630>, 'after_grace_note': True, 'grace_order': -1, 'num_grace': 1}\nMeasure: 258 {'duration': 0, 'midi_ticks': 0.0, 'seconds': 0.0, 'time_position': 531.0033063279242, 'xml_position': 688320, 'dots': 0, '_type': 'eighth', 'tuplet_ratio': Fraction(1, 1), 'is_grace_note': True, 'state': <musicXML_parser.mxp.main.MusicXMLParserState object at 0x7f1e0a6a3630>, 'after_grace_note': True, 'grace_order': -1, 'num_grace': 1}\n"
     ]
    }
   ],
   "source": [
    "for note in xml_sequence.notes:\n",
    "  if note.note_duration.is_grace_note:\n",
    "    print('Measure: {:d}'.format(note.measure_number), note.note_duration.__dict__)"
   ]
  },
  {
   "cell_type": "code",
   "execution_count": null,
   "metadata": {},
   "outputs": [],
   "source": []
  }
 ],
 "metadata": {
  "kernelspec": {
   "display_name": "Python 2",
   "language": "python",
   "name": "python2"
  },
  "language_info": {
   "codemirror_mode": {
    "name": "ipython",
    "version": 2
   },
   "file_extension": ".py",
   "mimetype": "text/x-python",
   "name": "python",
   "nbconvert_exporter": "python",
   "pygments_lexer": "ipython2",
   "version": "2.7.6"
  }
 },
 "nbformat": 4,
 "nbformat_minor": 0
}
